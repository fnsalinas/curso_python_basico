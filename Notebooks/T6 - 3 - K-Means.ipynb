{
 "cells": [
  {
   "cell_type": "markdown",
   "metadata": {},
   "source": [
    "# El método de k-means"
   ]
  },
  {
   "cell_type": "code",
   "execution_count": 11,
   "metadata": {},
   "outputs": [],
   "source": [
    "import numpy as np"
   ]
  },
  {
   "cell_type": "code",
   "execution_count": 12,
   "metadata": {},
   "outputs": [
    {
     "data": {
      "text/plain": [
       "array([[0.26087317, 0.36229589, 0.77314768],\n",
       "       [0.04256762, 0.9951264 , 0.82326281],\n",
       "       [0.13635984, 0.91223454, 0.64032505],\n",
       "       [0.01763639, 0.10865866, 0.27542139],\n",
       "       [0.7024126 , 0.21779238, 0.94736732],\n",
       "       [0.89513582, 0.02842453, 0.13358897],\n",
       "       [0.84710767, 0.7415785 , 0.86012183],\n",
       "       [0.26786765, 0.20739257, 0.12959581],\n",
       "       [0.73168191, 0.1385192 , 0.64353867],\n",
       "       [0.8706227 , 0.82544335, 0.20965378],\n",
       "       [0.69565017, 0.41157124, 0.49059049],\n",
       "       [0.2334435 , 0.05350097, 0.21948662],\n",
       "       [0.64715089, 0.75940459, 0.6812172 ],\n",
       "       [0.74593882, 0.41170748, 0.57233969],\n",
       "       [0.20227098, 0.23234978, 0.01738266],\n",
       "       [0.49727059, 0.38950928, 0.28787361],\n",
       "       [0.66910417, 0.93662493, 0.35817785],\n",
       "       [0.29031818, 0.76766876, 0.23166185],\n",
       "       [0.00811217, 0.46626241, 0.33717924],\n",
       "       [0.82429721, 0.98200905, 0.22683165],\n",
       "       [0.36807705, 0.87653336, 0.73475334],\n",
       "       [0.17044233, 0.98085937, 0.68872105],\n",
       "       [0.64703531, 0.82953396, 0.0349485 ],\n",
       "       [0.83977732, 0.04130367, 0.52082271],\n",
       "       [0.15358822, 0.93760484, 0.55326883],\n",
       "       [0.25170535, 0.61410039, 0.25404971],\n",
       "       [0.37899711, 0.56667352, 0.71177421],\n",
       "       [0.15764357, 0.43158278, 0.2703064 ],\n",
       "       [0.58422216, 0.49243319, 0.38881598],\n",
       "       [0.466333  , 0.15633953, 0.05906164]])"
      ]
     },
     "execution_count": 12,
     "metadata": {},
     "output_type": "execute_result"
    }
   ],
   "source": [
    "data = np.random.random(90).reshape(30,3)\n",
    "data"
   ]
  },
  {
   "cell_type": "code",
   "execution_count": 13,
   "metadata": {},
   "outputs": [
    {
     "data": {
      "text/plain": [
       "array([[0.20227098, 0.23234978, 0.01738266],\n",
       "       [0.26087317, 0.36229589, 0.77314768]])"
      ]
     },
     "execution_count": 13,
     "metadata": {},
     "output_type": "execute_result"
    }
   ],
   "source": [
    "c1 = np.random.choice(range(len(data)))\n",
    "c2 = np.random.choice(range(len(data)))\n",
    "clust_centers = np.vstack([data[c1], data[c2]])\n",
    "clust_centers"
   ]
  },
  {
   "cell_type": "code",
   "execution_count": 14,
   "metadata": {},
   "outputs": [],
   "source": [
    "from scipy.cluster.vq import vq"
   ]
  },
  {
   "cell_type": "code",
   "execution_count": 15,
   "metadata": {},
   "outputs": [
    {
     "data": {
      "text/plain": [
       "(array([1, 1, 1, 0, 1, 0, 1, 0, 1, 0, 1, 0, 1, 1, 0, 0, 1, 0, 0, 0, 1, 1,\n",
       "        0, 1, 1, 0, 1, 0, 1, 0], dtype=int32),\n",
       " array([0.        , 0.67129971, 0.5792909 , 0.34054868, 0.49617619,\n",
       "        0.73154023, 0.70362681, 0.13235399, 0.53715488, 0.91401433,\n",
       "        0.52086243, 0.27167008, 0.56156657, 0.52730829, 0.        ,\n",
       "        0.42998748, 0.81774468, 0.58329606, 0.44122853, 0.99638072,\n",
       "        0.52669438, 0.63081406, 0.74481731, 0.70840237, 0.62516971,\n",
       "        0.45187231, 0.2439061 , 0.32504741, 0.51884597, 0.27792706]))"
      ]
     },
     "execution_count": 15,
     "metadata": {},
     "output_type": "execute_result"
    }
   ],
   "source": [
    "clusters = vq(data, clust_centers)\n",
    "clusters"
   ]
  },
  {
   "cell_type": "code",
   "execution_count": 16,
   "metadata": {},
   "outputs": [
    {
     "data": {
      "text/plain": [
       "array([1, 1, 1, 0, 1, 0, 1, 0, 1, 0, 1, 0, 1, 1, 0, 0, 1, 0, 0, 0, 1, 1,\n",
       "       0, 1, 1, 0, 1, 0, 1, 0], dtype=int32)"
      ]
     },
     "execution_count": 16,
     "metadata": {},
     "output_type": "execute_result"
    }
   ],
   "source": [
    "labels = clusters[0]\n",
    "labels"
   ]
  },
  {
   "cell_type": "code",
   "execution_count": 45,
   "metadata": {},
   "outputs": [
    {
     "ename": "ImportError",
     "evalue": "\nThe plotly.plotly module is deprecated,\nplease install the chart-studio package and use the\nchart_studio.plotly module instead. \n",
     "output_type": "error",
     "traceback": [
      "\u001b[0;31m---------------------------------------------------------------------------\u001b[0m",
      "\u001b[0;31mImportError\u001b[0m                               Traceback (most recent call last)",
      "\u001b[0;32m<ipython-input-45-1e61e7de7667>\u001b[0m in \u001b[0;36m<module>\u001b[0;34m()\u001b[0m\n\u001b[0;32m----> 1\u001b[0;31m \u001b[0;32mimport\u001b[0m \u001b[0mplotly\u001b[0m\u001b[0;34m.\u001b[0m\u001b[0mplotly\u001b[0m \u001b[0;32mas\u001b[0m \u001b[0mpy\u001b[0m\u001b[0;34m\u001b[0m\u001b[0m\n\u001b[0m\u001b[1;32m      2\u001b[0m \u001b[0;32mimport\u001b[0m \u001b[0mplotly\u001b[0m\u001b[0;34m.\u001b[0m\u001b[0mgraph_objs\u001b[0m \u001b[0;32mas\u001b[0m \u001b[0mgo\u001b[0m\u001b[0;34m\u001b[0m\u001b[0m\n\u001b[1;32m      3\u001b[0m \u001b[0;32mimport\u001b[0m \u001b[0mplotly\u001b[0m\u001b[0;34m.\u001b[0m\u001b[0moffline\u001b[0m \u001b[0;32mas\u001b[0m \u001b[0mply\u001b[0m\u001b[0;34m\u001b[0m\u001b[0m\n\u001b[1;32m      4\u001b[0m \u001b[0;32mimport\u001b[0m \u001b[0mchart_studio\u001b[0m\u001b[0;34m.\u001b[0m\u001b[0mplotly\u001b[0m \u001b[0;32mas\u001b[0m \u001b[0mply\u001b[0m\u001b[0;34m\u001b[0m\u001b[0m\n",
      "\u001b[0;32m/anaconda3/lib/python3.6/site-packages/plotly/plotly/__init__.py\u001b[0m in \u001b[0;36m<module>\u001b[0;34m()\u001b[0m\n\u001b[1;32m      2\u001b[0m \u001b[0;32mfrom\u001b[0m \u001b[0m_plotly_future_\u001b[0m \u001b[0;32mimport\u001b[0m \u001b[0m_chart_studio_error\u001b[0m\u001b[0;34m\u001b[0m\u001b[0m\n\u001b[1;32m      3\u001b[0m \u001b[0;34m\u001b[0m\u001b[0m\n\u001b[0;32m----> 4\u001b[0;31m \u001b[0m_chart_studio_error\u001b[0m\u001b[0;34m(\u001b[0m\u001b[0;34m\"plotly\"\u001b[0m\u001b[0;34m)\u001b[0m\u001b[0;34m\u001b[0m\u001b[0m\n\u001b[0m",
      "\u001b[0;32m/anaconda3/lib/python3.6/site-packages/_plotly_future_/__init__.py\u001b[0m in \u001b[0;36m_chart_studio_error\u001b[0;34m(submodule)\u001b[0m\n\u001b[1;32m     47\u001b[0m \u001b[0mchart_studio\u001b[0m\u001b[0;34m.\u001b[0m\u001b[0;34m{\u001b[0m\u001b[0msubmodule\u001b[0m\u001b[0;34m}\u001b[0m \u001b[0mmodule\u001b[0m \u001b[0minstead\u001b[0m\u001b[0;34m.\u001b[0m\u001b[0;34m\u001b[0m\u001b[0m\n\u001b[1;32m     48\u001b[0m \"\"\".format(\n\u001b[0;32m---> 49\u001b[0;31m             \u001b[0msubmodule\u001b[0m\u001b[0;34m=\u001b[0m\u001b[0msubmodule\u001b[0m\u001b[0;34m\u001b[0m\u001b[0m\n\u001b[0m\u001b[1;32m     50\u001b[0m         )\n\u001b[1;32m     51\u001b[0m     )\n",
      "\u001b[0;31mImportError\u001b[0m: \nThe plotly.plotly module is deprecated,\nplease install the chart-studio package and use the\nchart_studio.plotly module instead. \n"
     ]
    }
   ],
   "source": [
    "import plotly.plotly as py\n",
    "import plotly.graph_objs as go\n",
    "import plotly.offline as ply\n",
    "import chart_studio.plotly as ply"
   ]
  },
  {
   "cell_type": "code",
   "execution_count": 46,
   "metadata": {},
   "outputs": [
    {
     "ename": "NameError",
     "evalue": "name 'go' is not defined",
     "output_type": "error",
     "traceback": [
      "\u001b[0;31m---------------------------------------------------------------------------\u001b[0m",
      "\u001b[0;31mNameError\u001b[0m                                 Traceback (most recent call last)",
      "\u001b[0;32m<ipython-input-46-1c207dc5cabc>\u001b[0m in \u001b[0;36m<module>\u001b[0;34m()\u001b[0m\n\u001b[1;32m     17\u001b[0m         \u001b[0mz2\u001b[0m\u001b[0;34m.\u001b[0m\u001b[0mappend\u001b[0m\u001b[0;34m(\u001b[0m\u001b[0mdata\u001b[0m\u001b[0;34m[\u001b[0m\u001b[0mi\u001b[0m\u001b[0;34m,\u001b[0m\u001b[0;36m2\u001b[0m\u001b[0;34m]\u001b[0m\u001b[0;34m)\u001b[0m\u001b[0;34m\u001b[0m\u001b[0m\n\u001b[1;32m     18\u001b[0m \u001b[0;34m\u001b[0m\u001b[0m\n\u001b[0;32m---> 19\u001b[0;31m cluster1 = go.Scatter3d(\n\u001b[0m\u001b[1;32m     20\u001b[0m     \u001b[0mx\u001b[0m\u001b[0;34m=\u001b[0m\u001b[0mx\u001b[0m\u001b[0;34m,\u001b[0m\u001b[0;34m\u001b[0m\u001b[0m\n\u001b[1;32m     21\u001b[0m     \u001b[0my\u001b[0m\u001b[0;34m=\u001b[0m\u001b[0my\u001b[0m\u001b[0;34m,\u001b[0m\u001b[0;34m\u001b[0m\u001b[0m\n",
      "\u001b[0;31mNameError\u001b[0m: name 'go' is not defined"
     ]
    }
   ],
   "source": [
    "x = []\n",
    "y = []\n",
    "z = []\n",
    "x2 = []\n",
    "y2 = []\n",
    "z2 = []\n",
    "\n",
    "for i in range(0, len(labels)):\n",
    "    if(labels[i] == 0):\n",
    "        x.append(data[i,0])\n",
    "        y.append(data[i,1])\n",
    "        z.append(data[i,2])\n",
    "        \n",
    "    else:\n",
    "        x2.append(data[i,0])\n",
    "        y2.append(data[i,1])\n",
    "        z2.append(data[i,2])\n",
    "\n",
    "cluster1 = go.Scatter3d(\n",
    "    x=x,\n",
    "    y=y,\n",
    "    z=z,\n",
    "    mode='markers',\n",
    "    marker=dict(\n",
    "        size=12,\n",
    "        line=dict(\n",
    "            color='rgba(217, 217, 217, 0.14)',\n",
    "            width=0.5\n",
    "        ),\n",
    "        opacity=0.9\n",
    "    ),\n",
    "    name=\"Cluster 0\"\n",
    ")\n",
    "\n",
    "\n",
    "cluster2 = go.Scatter3d(\n",
    "    x=x2,\n",
    "    y=y2,\n",
    "    z=z2,\n",
    "    mode='markers',\n",
    "    marker=dict(\n",
    "        color='rgb(127, 127, 127)',\n",
    "        size=12,\n",
    "        symbol='circle',\n",
    "        line=dict(\n",
    "            color='rgb(204, 204, 204)',\n",
    "            width=1\n",
    "        ),\n",
    "        opacity=0.9\n",
    "    ),\n",
    "    name=\"Cluster 1\"\n",
    ")\n",
    "data2 = [cluster1, cluster2]\n",
    "layout = go.Layout(\n",
    "    margin=dict(\n",
    "        l=0,\n",
    "        r=0,\n",
    "        b=0,\n",
    "        t=30\n",
    "    )\n",
    ")\n",
    "\n",
    "fig = go.Figure(data=data2, layout=layout)\n",
    "ply.plot(fig, filename='Clusters')\n"
   ]
  },
  {
   "cell_type": "code",
   "execution_count": 47,
   "metadata": {},
   "outputs": [],
   "source": [
    "from scipy.cluster.vq import kmeans"
   ]
  },
  {
   "cell_type": "code",
   "execution_count": 48,
   "metadata": {},
   "outputs": [
    {
     "data": {
      "text/plain": [
       "(array([[0.4177679 , 0.26942487, 0.28769385],\n",
       "        [0.48468081, 0.75644318, 0.56547329]]), 0.3988680500863191)"
      ]
     },
     "execution_count": 48,
     "metadata": {},
     "output_type": "execute_result"
    }
   ],
   "source": [
    "kmeans(data, clust_centers)"
   ]
  },
  {
   "cell_type": "code",
   "execution_count": 49,
   "metadata": {},
   "outputs": [
    {
     "data": {
      "text/plain": [
       "(array([[0.44458677, 0.28022023, 0.37179815],\n",
       "        [0.46505141, 0.85471501, 0.51959369]]), 0.39510167764281884)"
      ]
     },
     "execution_count": 49,
     "metadata": {},
     "output_type": "execute_result"
    }
   ],
   "source": [
    "kmeans(data, 2)"
   ]
  },
  {
   "cell_type": "code",
   "execution_count": null,
   "metadata": {},
   "outputs": [],
   "source": []
  }
 ],
 "metadata": {
  "kernelspec": {
   "display_name": "Python 3",
   "language": "python",
   "name": "python3"
  },
  "language_info": {
   "codemirror_mode": {
    "name": "ipython",
    "version": 3
   },
   "file_extension": ".py",
   "mimetype": "text/x-python",
   "name": "python",
   "nbconvert_exporter": "python",
   "pygments_lexer": "ipython3",
   "version": "3.6.5"
  }
 },
 "nbformat": 4,
 "nbformat_minor": 2
}
