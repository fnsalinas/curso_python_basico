{
 "cells": [
  {
   "cell_type": "markdown",
   "id": "f3849ac2-ba25-4eb7-910d-4060e9fdb094",
   "metadata": {},
   "source": [
    "# Data types"
   ]
  },
  {
   "cell_type": "code",
   "execution_count": 1,
   "id": "346e0030-37f9-4c77-af27-617ee21841d1",
   "metadata": {},
   "outputs": [
    {
     "data": {
      "text/plain": [
       "1.0"
      ]
     },
     "execution_count": 1,
     "metadata": {},
     "output_type": "execute_result"
    }
   ],
   "source": [
    "# Esto es un comentario\n",
    "# numeric --> bigquery 15 decimales -> depsues de bignumeric o big float\n",
    "\n",
    "float(1)"
   ]
  },
  {
   "cell_type": "code",
   "execution_count": 2,
   "id": "439cb992-7cd1-4de2-ad97-c864098fc98f",
   "metadata": {},
   "outputs": [
    {
     "data": {
      "text/plain": [
       "3"
      ]
     },
     "execution_count": 2,
     "metadata": {},
     "output_type": "execute_result"
    }
   ],
   "source": [
    "int(3.1416)"
   ]
  },
  {
   "cell_type": "code",
   "execution_count": 3,
   "id": "fec4ab94-8160-41c3-8e9a-c3f5867ec329",
   "metadata": {},
   "outputs": [
    {
     "data": {
      "text/plain": [
       "3"
      ]
     },
     "execution_count": 3,
     "metadata": {},
     "output_type": "execute_result"
    }
   ],
   "source": [
    "int(3.8)"
   ]
  },
  {
   "cell_type": "code",
   "execution_count": 4,
   "id": "b5ba1e54-c0e9-497a-95dd-09e4358bcbc6",
   "metadata": {},
   "outputs": [],
   "source": [
    "nombre_usuario: str = 1.345"
   ]
  },
  {
   "cell_type": "code",
   "execution_count": 5,
   "id": "09a26dd8-235b-4515-b164-8c2bb5255f0a",
   "metadata": {},
   "outputs": [
    {
     "data": {
      "text/plain": [
       "float"
      ]
     },
     "execution_count": 5,
     "metadata": {},
     "output_type": "execute_result"
    }
   ],
   "source": [
    "type(nombre_usuario)"
   ]
  },
  {
   "cell_type": "code",
   "execution_count": 6,
   "id": "5b8ab775-b453-4c83-9829-2d03ae5c29ed",
   "metadata": {},
   "outputs": [
    {
     "data": {
      "text/plain": [
       "5j"
      ]
     },
     "execution_count": 6,
     "metadata": {},
     "output_type": "execute_result"
    }
   ],
   "source": [
    "complex(5j)"
   ]
  },
  {
   "cell_type": "markdown",
   "id": "6304a752-e115-4a9a-844d-903335911512",
   "metadata": {},
   "source": [
    "### Listas"
   ]
  },
  {
   "cell_type": "code",
   "execution_count": 7,
   "id": "7b688cf8-14f7-4ac5-ba70-82185aa333bf",
   "metadata": {},
   "outputs": [
    {
     "data": {
      "text/plain": [
       "[]"
      ]
     },
     "execution_count": 7,
     "metadata": {},
     "output_type": "execute_result"
    }
   ],
   "source": [
    "[]"
   ]
  },
  {
   "cell_type": "code",
   "execution_count": 8,
   "id": "dde3ccf8-b92c-4742-8da4-e87c2567d67f",
   "metadata": {},
   "outputs": [
    {
     "data": {
      "text/plain": [
       "list"
      ]
     },
     "execution_count": 8,
     "metadata": {},
     "output_type": "execute_result"
    }
   ],
   "source": [
    "type([])"
   ]
  },
  {
   "cell_type": "code",
   "execution_count": 9,
   "id": "2e3291a3-8671-4416-9b9c-15085eea9801",
   "metadata": {},
   "outputs": [],
   "source": [
    "edades = [25, 40, 20, 25]"
   ]
  },
  {
   "cell_type": "code",
   "execution_count": 10,
   "id": "11066845-6b08-4e04-b017-57469515190f",
   "metadata": {},
   "outputs": [
    {
     "data": {
      "text/plain": [
       "[25, 40, 20, 25]"
      ]
     },
     "execution_count": 10,
     "metadata": {},
     "output_type": "execute_result"
    }
   ],
   "source": [
    "edades"
   ]
  },
  {
   "cell_type": "code",
   "execution_count": 11,
   "id": "580fcb8d-ddac-4b70-9558-014c69260dca",
   "metadata": {},
   "outputs": [
    {
     "data": {
      "text/plain": [
       "20"
      ]
     },
     "execution_count": 11,
     "metadata": {},
     "output_type": "execute_result"
    }
   ],
   "source": [
    "edades[2]"
   ]
  },
  {
   "cell_type": "code",
   "execution_count": 12,
   "id": "3174524e-9d11-4db8-b11e-6e1df2204505",
   "metadata": {},
   "outputs": [
    {
     "data": {
      "text/plain": [
       "int"
      ]
     },
     "execution_count": 12,
     "metadata": {},
     "output_type": "execute_result"
    }
   ],
   "source": [
    "type(edades[2])"
   ]
  },
  {
   "cell_type": "code",
   "execution_count": 13,
   "id": "922f58d0-c1a7-485c-b44f-f8850bb8b604",
   "metadata": {},
   "outputs": [
    {
     "data": {
      "text/plain": [
       "[40, 20, 25]"
      ]
     },
     "execution_count": 13,
     "metadata": {},
     "output_type": "execute_result"
    }
   ],
   "source": [
    "edades[1:]"
   ]
  },
  {
   "cell_type": "code",
   "execution_count": 14,
   "id": "55e2c1be-bcdd-4bf1-afbc-360ae5f8c7c3",
   "metadata": {},
   "outputs": [
    {
     "data": {
      "text/plain": [
       "[25, 40, 20, 25]"
      ]
     },
     "execution_count": 14,
     "metadata": {},
     "output_type": "execute_result"
    }
   ],
   "source": [
    "edades[:]"
   ]
  },
  {
   "cell_type": "code",
   "execution_count": 15,
   "id": "8a34f869-65b0-440b-a1e4-172b20c175c8",
   "metadata": {},
   "outputs": [
    {
     "data": {
      "text/plain": [
       "[40, 20, 25]"
      ]
     },
     "execution_count": 15,
     "metadata": {},
     "output_type": "execute_result"
    }
   ],
   "source": [
    "edades[-3:]"
   ]
  },
  {
   "cell_type": "code",
   "execution_count": 16,
   "id": "be3eb9a5-f539-4f18-bdec-5e6b19c583a4",
   "metadata": {},
   "outputs": [
    {
     "data": {
      "text/plain": [
       "[40, 20]"
      ]
     },
     "execution_count": 16,
     "metadata": {},
     "output_type": "execute_result"
    }
   ],
   "source": [
    "edades[1:3]"
   ]
  },
  {
   "cell_type": "code",
   "execution_count": 17,
   "id": "0f722624-6886-4dc0-a163-d1ba41cb4479",
   "metadata": {},
   "outputs": [],
   "source": [
    "edades = [25, 40.35, \"edad avanzada\", [15, \"Fabio\"]]"
   ]
  },
  {
   "cell_type": "code",
   "execution_count": 18,
   "id": "17b98132-4b61-4d01-a661-b6362f9447a5",
   "metadata": {},
   "outputs": [
    {
     "data": {
      "text/plain": [
       "[25, 40.35, 'edad avanzada', [15, 'Fabio']]"
      ]
     },
     "execution_count": 18,
     "metadata": {},
     "output_type": "execute_result"
    }
   ],
   "source": [
    "edades"
   ]
  },
  {
   "cell_type": "markdown",
   "id": "741d4ead-25e6-4d73-8d08-c435bee6c252",
   "metadata": {},
   "source": [
    "# Leyendo el archivo de salarios"
   ]
  },
  {
   "cell_type": "code",
   "execution_count": 19,
   "id": "7083c955-bdfe-4cbe-97a7-799d67ba74cd",
   "metadata": {},
   "outputs": [],
   "source": [
    "ruta_archivo: str = \"old/Salaries.csv\""
   ]
  },
  {
   "cell_type": "code",
   "execution_count": 20,
   "id": "3c7bad2b-a5ae-4c9a-9184-94573a02c976",
   "metadata": {},
   "outputs": [
    {
     "data": {
      "text/plain": [
       "\u001b[0;31mSignature:\u001b[0m\n",
       "\u001b[0mopen\u001b[0m\u001b[0;34m(\u001b[0m\u001b[0;34m\u001b[0m\n",
       "\u001b[0;34m\u001b[0m    \u001b[0mfile\u001b[0m\u001b[0;34m,\u001b[0m\u001b[0;34m\u001b[0m\n",
       "\u001b[0;34m\u001b[0m    \u001b[0mmode\u001b[0m\u001b[0;34m=\u001b[0m\u001b[0;34m'r'\u001b[0m\u001b[0;34m,\u001b[0m\u001b[0;34m\u001b[0m\n",
       "\u001b[0;34m\u001b[0m    \u001b[0mbuffering\u001b[0m\u001b[0;34m=\u001b[0m\u001b[0;34m-\u001b[0m\u001b[0;36m1\u001b[0m\u001b[0;34m,\u001b[0m\u001b[0;34m\u001b[0m\n",
       "\u001b[0;34m\u001b[0m    \u001b[0mencoding\u001b[0m\u001b[0;34m=\u001b[0m\u001b[0;32mNone\u001b[0m\u001b[0;34m,\u001b[0m\u001b[0;34m\u001b[0m\n",
       "\u001b[0;34m\u001b[0m    \u001b[0merrors\u001b[0m\u001b[0;34m=\u001b[0m\u001b[0;32mNone\u001b[0m\u001b[0;34m,\u001b[0m\u001b[0;34m\u001b[0m\n",
       "\u001b[0;34m\u001b[0m    \u001b[0mnewline\u001b[0m\u001b[0;34m=\u001b[0m\u001b[0;32mNone\u001b[0m\u001b[0;34m,\u001b[0m\u001b[0;34m\u001b[0m\n",
       "\u001b[0;34m\u001b[0m    \u001b[0mclosefd\u001b[0m\u001b[0;34m=\u001b[0m\u001b[0;32mTrue\u001b[0m\u001b[0;34m,\u001b[0m\u001b[0;34m\u001b[0m\n",
       "\u001b[0;34m\u001b[0m    \u001b[0mopener\u001b[0m\u001b[0;34m=\u001b[0m\u001b[0;32mNone\u001b[0m\u001b[0;34m,\u001b[0m\u001b[0;34m\u001b[0m\n",
       "\u001b[0;34m\u001b[0m\u001b[0;34m)\u001b[0m\u001b[0;34m\u001b[0m\u001b[0;34m\u001b[0m\u001b[0m\n",
       "\u001b[0;31mDocstring:\u001b[0m\n",
       "Open file and return a stream.  Raise OSError upon failure.\n",
       "\n",
       "file is either a text or byte string giving the name (and the path\n",
       "if the file isn't in the current working directory) of the file to\n",
       "be opened or an integer file descriptor of the file to be\n",
       "wrapped. (If a file descriptor is given, it is closed when the\n",
       "returned I/O object is closed, unless closefd is set to False.)\n",
       "\n",
       "mode is an optional string that specifies the mode in which the file\n",
       "is opened. It defaults to 'r' which means open for reading in text\n",
       "mode.  Other common values are 'w' for writing (truncating the file if\n",
       "it already exists), 'x' for creating and writing to a new file, and\n",
       "'a' for appending (which on some Unix systems, means that all writes\n",
       "append to the end of the file regardless of the current seek position).\n",
       "In text mode, if encoding is not specified the encoding used is platform\n",
       "dependent: locale.getpreferredencoding(False) is called to get the\n",
       "current locale encoding. (For reading and writing raw bytes use binary\n",
       "mode and leave encoding unspecified.) The available modes are:\n",
       "\n",
       "========= ===============================================================\n",
       "Character Meaning\n",
       "--------- ---------------------------------------------------------------\n",
       "'r'       open for reading (default)\n",
       "'w'       open for writing, truncating the file first\n",
       "'x'       create a new file and open it for writing\n",
       "'a'       open for writing, appending to the end of the file if it exists\n",
       "'b'       binary mode\n",
       "'t'       text mode (default)\n",
       "'+'       open a disk file for updating (reading and writing)\n",
       "'U'       universal newline mode (deprecated)\n",
       "========= ===============================================================\n",
       "\n",
       "The default mode is 'rt' (open for reading text). For binary random\n",
       "access, the mode 'w+b' opens and truncates the file to 0 bytes, while\n",
       "'r+b' opens the file without truncation. The 'x' mode implies 'w' and\n",
       "raises an `FileExistsError` if the file already exists.\n",
       "\n",
       "Python distinguishes between files opened in binary and text modes,\n",
       "even when the underlying operating system doesn't. Files opened in\n",
       "binary mode (appending 'b' to the mode argument) return contents as\n",
       "bytes objects without any decoding. In text mode (the default, or when\n",
       "'t' is appended to the mode argument), the contents of the file are\n",
       "returned as strings, the bytes having been first decoded using a\n",
       "platform-dependent encoding or using the specified encoding if given.\n",
       "\n",
       "'U' mode is deprecated and will raise an exception in future versions\n",
       "of Python.  It has no effect in Python 3.  Use newline to control\n",
       "universal newlines mode.\n",
       "\n",
       "buffering is an optional integer used to set the buffering policy.\n",
       "Pass 0 to switch buffering off (only allowed in binary mode), 1 to select\n",
       "line buffering (only usable in text mode), and an integer > 1 to indicate\n",
       "the size of a fixed-size chunk buffer.  When no buffering argument is\n",
       "given, the default buffering policy works as follows:\n",
       "\n",
       "* Binary files are buffered in fixed-size chunks; the size of the buffer\n",
       "  is chosen using a heuristic trying to determine the underlying device's\n",
       "  \"block size\" and falling back on `io.DEFAULT_BUFFER_SIZE`.\n",
       "  On many systems, the buffer will typically be 4096 or 8192 bytes long.\n",
       "\n",
       "* \"Interactive\" text files (files for which isatty() returns True)\n",
       "  use line buffering.  Other text files use the policy described above\n",
       "  for binary files.\n",
       "\n",
       "encoding is the name of the encoding used to decode or encode the\n",
       "file. This should only be used in text mode. The default encoding is\n",
       "platform dependent, but any encoding supported by Python can be\n",
       "passed.  See the codecs module for the list of supported encodings.\n",
       "\n",
       "errors is an optional string that specifies how encoding errors are to\n",
       "be handled---this argument should not be used in binary mode. Pass\n",
       "'strict' to raise a ValueError exception if there is an encoding error\n",
       "(the default of None has the same effect), or pass 'ignore' to ignore\n",
       "errors. (Note that ignoring encoding errors can lead to data loss.)\n",
       "See the documentation for codecs.register or run 'help(codecs.Codec)'\n",
       "for a list of the permitted encoding error strings.\n",
       "\n",
       "newline controls how universal newlines works (it only applies to text\n",
       "mode). It can be None, '', '\\n', '\\r', and '\\r\\n'.  It works as\n",
       "follows:\n",
       "\n",
       "* On input, if newline is None, universal newlines mode is\n",
       "  enabled. Lines in the input can end in '\\n', '\\r', or '\\r\\n', and\n",
       "  these are translated into '\\n' before being returned to the\n",
       "  caller. If it is '', universal newline mode is enabled, but line\n",
       "  endings are returned to the caller untranslated. If it has any of\n",
       "  the other legal values, input lines are only terminated by the given\n",
       "  string, and the line ending is returned to the caller untranslated.\n",
       "\n",
       "* On output, if newline is None, any '\\n' characters written are\n",
       "  translated to the system default line separator, os.linesep. If\n",
       "  newline is '' or '\\n', no translation takes place. If newline is any\n",
       "  of the other legal values, any '\\n' characters written are translated\n",
       "  to the given string.\n",
       "\n",
       "If closefd is False, the underlying file descriptor will be kept open\n",
       "when the file is closed. This does not work when a file name is given\n",
       "and must be True in that case.\n",
       "\n",
       "A custom opener can be used by passing a callable as *opener*. The\n",
       "underlying file descriptor for the file object is then obtained by\n",
       "calling *opener* with (*file*, *flags*). *opener* must return an open\n",
       "file descriptor (passing os.open as *opener* results in functionality\n",
       "similar to passing None).\n",
       "\n",
       "open() returns a file object whose type depends on the mode, and\n",
       "through which the standard file operations such as reading and writing\n",
       "are performed. When open() is used to open a file in a text mode ('w',\n",
       "'r', 'wt', 'rt', etc.), it returns a TextIOWrapper. When used to open\n",
       "a file in a binary mode, the returned class varies: in read binary\n",
       "mode, it returns a BufferedReader; in write binary and append binary\n",
       "modes, it returns a BufferedWriter, and in read/write mode, it returns\n",
       "a BufferedRandom.\n",
       "\n",
       "It is also possible to use a string or bytearray as a file for both\n",
       "reading and writing. For strings StringIO can be used like a file\n",
       "opened in a text mode, and for bytes a BytesIO can be used like a file\n",
       "opened in a binary mode.\n",
       "\u001b[0;31mType:\u001b[0m      builtin_function_or_method\n"
      ]
     },
     "metadata": {},
     "output_type": "display_data"
    }
   ],
   "source": [
    "?open"
   ]
  },
  {
   "cell_type": "code",
   "execution_count": 83,
   "id": "f76ca29a-2251-4dd6-a01f-a4b1a2fe6081",
   "metadata": {},
   "outputs": [],
   "source": [
    "archivo = open(ruta_archivo)"
   ]
  },
  {
   "cell_type": "code",
   "execution_count": 84,
   "id": "eb9d5f02-0a01-4384-ad42-4e65fe2ba6c5",
   "metadata": {},
   "outputs": [
    {
     "data": {
      "text/plain": [
       "\u001b[0;31mType:\u001b[0m        TextIOWrapper\n",
       "\u001b[0;31mString form:\u001b[0m <_io.TextIOWrapper name='old/Salaries.csv' mode='r' encoding='UTF-8'>\n",
       "\u001b[0;31mDocstring:\u001b[0m  \n",
       "Character and line based layer over a BufferedIOBase object, buffer.\n",
       "\n",
       "encoding gives the name of the encoding that the stream will be\n",
       "decoded or encoded with. It defaults to locale.getpreferredencoding(False).\n",
       "\n",
       "errors determines the strictness of encoding and decoding (see\n",
       "help(codecs.Codec) or the documentation for codecs.register) and\n",
       "defaults to \"strict\".\n",
       "\n",
       "newline controls how line endings are handled. It can be None, '',\n",
       "'\\n', '\\r', and '\\r\\n'.  It works as follows:\n",
       "\n",
       "* On input, if newline is None, universal newlines mode is\n",
       "  enabled. Lines in the input can end in '\\n', '\\r', or '\\r\\n', and\n",
       "  these are translated into '\\n' before being returned to the\n",
       "  caller. If it is '', universal newline mode is enabled, but line\n",
       "  endings are returned to the caller untranslated. If it has any of\n",
       "  the other legal values, input lines are only terminated by the given\n",
       "  string, and the line ending is returned to the caller untranslated.\n",
       "\n",
       "* On output, if newline is None, any '\\n' characters written are\n",
       "  translated to the system default line separator, os.linesep. If\n",
       "  newline is '' or '\\n', no translation takes place. If newline is any\n",
       "  of the other legal values, any '\\n' characters written are translated\n",
       "  to the given string.\n",
       "\n",
       "If line_buffering is True, a call to flush is implied when a call to\n",
       "write contains a newline character.\n"
      ]
     },
     "metadata": {},
     "output_type": "display_data"
    }
   ],
   "source": [
    "?archivo"
   ]
  },
  {
   "cell_type": "code",
   "execution_count": 85,
   "id": "4cb7f15e-f718-4a76-bbdf-c0ec18d9f440",
   "metadata": {},
   "outputs": [
    {
     "data": {
      "text/plain": [
       "\u001b[0;31mSignature:\u001b[0m \u001b[0marchivo\u001b[0m\u001b[0;34m.\u001b[0m\u001b[0mread\u001b[0m\u001b[0;34m(\u001b[0m\u001b[0msize\u001b[0m\u001b[0;34m=\u001b[0m\u001b[0;34m-\u001b[0m\u001b[0;36m1\u001b[0m\u001b[0;34m,\u001b[0m \u001b[0;34m/\u001b[0m\u001b[0;34m)\u001b[0m\u001b[0;34m\u001b[0m\u001b[0;34m\u001b[0m\u001b[0m\n",
       "\u001b[0;31mDocstring:\u001b[0m\n",
       "Read at most n characters from stream.\n",
       "\n",
       "Read from underlying buffer until we have n characters or we hit EOF.\n",
       "If n is negative or omitted, read until EOF.\n",
       "\u001b[0;31mType:\u001b[0m      builtin_function_or_method\n"
      ]
     },
     "metadata": {},
     "output_type": "display_data"
    }
   ],
   "source": [
    "?archivo.read"
   ]
  },
  {
   "cell_type": "code",
   "execution_count": 86,
   "id": "487a4ef6-f4ee-4d5c-afa6-7bda3af03bd9",
   "metadata": {},
   "outputs": [],
   "source": [
    "data = archivo.read()"
   ]
  },
  {
   "cell_type": "code",
   "execution_count": 87,
   "id": "474082dc-1d8e-4b0c-b3d9-1b6c865edddf",
   "metadata": {},
   "outputs": [
    {
     "data": {
      "text/plain": [
       "'Id,EmployeeName,JobTitle,BasePay,OvertimePay,OtherPay,Benefits,TotalPay,TotalPayBenefits,Year,Notes,Agency,Status\\n1,NATHANIEL FORD,GENERAL MANAGER-METROPOLITAN TRANSIT AUTHORITY,167411.18,0.0,400184.25,,567595.43,567595.43,2011,,San Francisco,\\n2,GARY JIMENEZ,CAPTAIN III (POLICE DEPARTMENT),155966.02,245131.88,137811.38,,538909.28,538909.28,2011,,San Francisco,\\n3,ALBERT PARDINI,CAPTAIN III (POLICE DEPARTMENT),212739.13,106088.18,16452.6,,335279.91,335279.91,2011,,San Francisco,\\n4,CHRISTOPHER CHONG,WIRE ROPE CABLE MAINTENANCE MECHANIC,77916.0,56120.71,198306.9,,332343.61,332343.61,2011,,San Francisco,\\n5,PATRICK GARDNER,\"DEPUTY CHIEF OF DEPARTMENT,(FIRE DEPARTMENT)\",134401.6,9737.0,182234.59,,326373.19,326373.19,2011,,San Francisco,\\n6,DAVID SULLIVAN,ASSISTANT DEPUTY CHIEF II,118602.0,8601.0,189082.74,,316285.74,316285.74,2011,,San Francisco,\\n7,ALSON LEE,\"BATTALION CHIEF, (FIRE DEPARTMENT)\",92492.01,89062.9,134426.14,,315981.05,315981.05,2011,,San Francisco,\\n8,DAVID KUSHNER,DEPUTY DIRECTOR'"
      ]
     },
     "execution_count": 87,
     "metadata": {},
     "output_type": "execute_result"
    }
   ],
   "source": [
    "data[:1000]"
   ]
  },
  {
   "cell_type": "code",
   "execution_count": 88,
   "id": "58488c0f-754f-42ec-bc32-9d19b0f5f966",
   "metadata": {},
   "outputs": [],
   "source": [
    "data_list = data.split(\"\\n\")"
   ]
  },
  {
   "cell_type": "code",
   "execution_count": 89,
   "id": "a64c39e0-23c7-427d-99a1-ace463b27a08",
   "metadata": {},
   "outputs": [
    {
     "data": {
      "text/plain": [
       "['Id,EmployeeName,JobTitle,BasePay,OvertimePay,OtherPay,Benefits,TotalPay,TotalPayBenefits,Year,Notes,Agency,Status',\n",
       " '1,NATHANIEL FORD,GENERAL MANAGER-METROPOLITAN TRANSIT AUTHORITY,167411.18,0.0,400184.25,,567595.43,567595.43,2011,,San Francisco,',\n",
       " '2,GARY JIMENEZ,CAPTAIN III (POLICE DEPARTMENT),155966.02,245131.88,137811.38,,538909.28,538909.28,2011,,San Francisco,',\n",
       " '3,ALBERT PARDINI,CAPTAIN III (POLICE DEPARTMENT),212739.13,106088.18,16452.6,,335279.91,335279.91,2011,,San Francisco,',\n",
       " '4,CHRISTOPHER CHONG,WIRE ROPE CABLE MAINTENANCE MECHANIC,77916.0,56120.71,198306.9,,332343.61,332343.61,2011,,San Francisco,']"
      ]
     },
     "execution_count": 89,
     "metadata": {},
     "output_type": "execute_result"
    }
   ],
   "source": [
    "data_list[:5]"
   ]
  },
  {
   "cell_type": "code",
   "execution_count": 90,
   "id": "263d4925-4481-4c9f-bc47-0dce78e6c8fa",
   "metadata": {},
   "outputs": [
    {
     "data": {
      "text/plain": [
       "['148651,Not provided,Not provided,,,,,0.0,0.0,2014,,San Francisco,',\n",
       " '148652,Not provided,Not provided,,,,,0.0,0.0,2014,,San Francisco,',\n",
       " '148653,Not provided,Not provided,,,,,0.0,0.0,2014,,San Francisco,',\n",
       " '148654,Joe Lopez,\"Counselor, Log Cabin Ranch\",0.0,0.0,-618.13,0.0,-618.13,-618.13,2014,,San Francisco,NaN',\n",
       " '']"
      ]
     },
     "execution_count": 90,
     "metadata": {},
     "output_type": "execute_result"
    }
   ],
   "source": [
    "data_list[-5:]"
   ]
  },
  {
   "cell_type": "markdown",
   "id": "d1551d0a-9400-4ac7-bb49-14f76fe28dc1",
   "metadata": {},
   "source": [
    "# Iterar"
   ]
  },
  {
   "cell_type": "code",
   "execution_count": 91,
   "id": "86b115cb-16b7-4725-9f97-4121a3f322a6",
   "metadata": {},
   "outputs": [
    {
     "data": {
      "text/plain": [
       "148656"
      ]
     },
     "execution_count": 91,
     "metadata": {},
     "output_type": "execute_result"
    }
   ],
   "source": [
    "len(data_list)"
   ]
  },
  {
   "cell_type": "code",
   "execution_count": 94,
   "id": "f2f0f7ca-a0cc-4158-bd8a-29f2524ecd65",
   "metadata": {},
   "outputs": [
    {
     "name": "stdout",
     "output_type": "stream",
     "text": [
      "Id,EmployeeName,JobTitle,BasePay,OvertimePay,OtherPay,Benefits,TotalPay,TotalPayBenefits,Year,Notes,Agency,Status\n",
      "1,NATHANIEL FORD,GENERAL MANAGER-METROPOLITAN TRANSIT AUTHORITY,167411.18,0.0,400184.25,,567595.43,567595.43,2011,,San Francisco,\n",
      "2,GARY JIMENEZ,CAPTAIN III (POLICE DEPARTMENT),155966.02,245131.88,137811.38,,538909.28,538909.28,2011,,San Francisco,\n",
      "3,ALBERT PARDINI,CAPTAIN III (POLICE DEPARTMENT),212739.13,106088.18,16452.6,,335279.91,335279.91,2011,,San Francisco,\n",
      "4,CHRISTOPHER CHONG,WIRE ROPE CABLE MAINTENANCE MECHANIC,77916.0,56120.71,198306.9,,332343.61,332343.61,2011,,San Francisco,\n",
      "5,PATRICK GARDNER,\"DEPUTY CHIEF OF DEPARTMENT,(FIRE DEPARTMENT)\",134401.6,9737.0,182234.59,,326373.19,326373.19,2011,,San Francisco,\n",
      "6,DAVID SULLIVAN,ASSISTANT DEPUTY CHIEF II,118602.0,8601.0,189082.74,,316285.74,316285.74,2011,,San Francisco,\n",
      "7,ALSON LEE,\"BATTALION CHIEF, (FIRE DEPARTMENT)\",92492.01,89062.9,134426.14,,315981.05,315981.05,2011,,San Francisco,\n",
      "8,DAVID KUSHNER,DEPUTY DIRECTOR OF INVESTMENTS,256576.96,0.0,51322.5,,307899.46,307899.46,2011,,San Francisco,\n",
      "9,MICHAEL MORRIS,\"BATTALION CHIEF, (FIRE DEPARTMENT)\",176932.64,86362.68,40132.23,,303427.55,303427.55,2011,,San Francisco,\n"
     ]
    }
   ],
   "source": [
    "for numero_fila in range(0, 10):\n",
    "    print(data_list[numero_fila])"
   ]
  },
  {
   "cell_type": "code",
   "execution_count": 101,
   "id": "fc87ab9d-c120-4e0b-bc9f-72f256dfb454",
   "metadata": {},
   "outputs": [
    {
     "name": "stdout",
     "output_type": "stream",
     "text": [
      "TotalPay\n",
      "567595,43\n",
      "538909,28\n",
      "335279,91\n",
      "332343,61\n",
      "\n",
      "316285,74\n",
      "\n",
      "307899,46\n",
      "\n"
     ]
    }
   ],
   "source": [
    "for datos_fila in data_list[:10]:\n",
    "    lista_fila = datos_fila.split(\",\")\n",
    "    print(lista_fila[7].replace(\".\", \",\"))"
   ]
  },
  {
   "cell_type": "code",
   "execution_count": 114,
   "id": "56accb15-18c5-4c85-b57c-f00c6a837f21",
   "metadata": {},
   "outputs": [
    {
     "data": {
      "text/plain": [
       "'303427,55'"
      ]
     },
     "execution_count": 114,
     "metadata": {},
     "output_type": "execute_result"
    }
   ],
   "source": [
    "\"303427.55\".replace(\".\", \",\")"
   ]
  },
  {
   "cell_type": "code",
   "execution_count": null,
   "id": "f68cd64b-f3a0-4737-a673-53ec9f2b832d",
   "metadata": {},
   "outputs": [],
   "source": []
  },
  {
   "cell_type": "code",
   "execution_count": null,
   "id": "41d37d19-9dfb-4046-9cd8-a2708bd5d5f5",
   "metadata": {},
   "outputs": [],
   "source": []
  },
  {
   "cell_type": "code",
   "execution_count": null,
   "id": "6def956e-522c-4632-9b3d-b37e247effca",
   "metadata": {},
   "outputs": [],
   "source": []
  },
  {
   "cell_type": "code",
   "execution_count": null,
   "id": "8b8ec6cd-c2da-40ef-b49f-2fc30f592def",
   "metadata": {},
   "outputs": [],
   "source": []
  },
  {
   "cell_type": "code",
   "execution_count": null,
   "id": "0c8e8bd4-3707-4ac6-9408-831fdc84c0fd",
   "metadata": {},
   "outputs": [],
   "source": []
  },
  {
   "cell_type": "code",
   "execution_count": null,
   "id": "96fd1f36-fee2-46de-993c-c541ec8db176",
   "metadata": {},
   "outputs": [],
   "source": []
  },
  {
   "cell_type": "markdown",
   "id": "ac8c3db8-f747-4e81-be32-9248dfc8e06b",
   "metadata": {},
   "source": [
    "# Carro\n",
    "## Atributos:\n",
    "1. Color\n",
    "2. Motor\n",
    "3. Numero de asientos\n",
    "4. Tipo de asientos\n",
    "5. Marca\n",
    "6. Tipo de Conmbustible\n",
    "\n",
    "## Metodos:\n",
    "1. Acelerar\n",
    "2. Frenar\n",
    "3. Cargar batería"
   ]
  },
  {
   "cell_type": "code",
   "execution_count": 47,
   "id": "2ee807bf-89ab-4f2d-b80e-47ab8c60380c",
   "metadata": {},
   "outputs": [],
   "source": [
    "class carro:\n",
    "    \n",
    "    def __init__(self, color, motor, marca):\n",
    "        self.color = color\n",
    "        self.motor = motor\n",
    "        self.marca = marca\n",
    "        self.velocidad = 0\n",
    "    \n",
    "    def acelerar(self, aceleracion):\n",
    "        self.velocidad = self.velocidad + aceleracion\n",
    "        print(\"La velocidad que lleva el vehiculo es de: \" + str(self.velocidad))\n",
    "        \n",
    "    def frenar(self, frenado):\n",
    "        self.velocidad = self.velocidad - frenado\n",
    "        print(\"La velocidad que lleva el vehiculo es de: \" + str(self.velocidad))"
   ]
  },
  {
   "cell_type": "code",
   "execution_count": 48,
   "id": "ed57a833-71cc-4e05-b76e-f0b0cfdb2353",
   "metadata": {},
   "outputs": [],
   "source": [
    "carro_ln = carro(\"Azul\", \"Tipo 1\", \"Mercedes\")"
   ]
  },
  {
   "cell_type": "code",
   "execution_count": 52,
   "id": "14a06028-5cca-4636-8d6f-f484eeff2aa3",
   "metadata": {},
   "outputs": [
    {
     "name": "stdout",
     "output_type": "stream",
     "text": [
      "La velocidad que lleva el vehiculo es de: 40\n"
     ]
    }
   ],
   "source": [
    "carro_ln.acelerar(10)"
   ]
  },
  {
   "cell_type": "code",
   "execution_count": 53,
   "id": "cc15b2b2-2c9a-4331-9f68-0eb2a51b5a57",
   "metadata": {},
   "outputs": [
    {
     "name": "stdout",
     "output_type": "stream",
     "text": [
      "La velocidad que lleva el vehiculo es de: 25\n"
     ]
    }
   ],
   "source": [
    "carro_ln.frenar(15)"
   ]
  },
  {
   "cell_type": "code",
   "execution_count": null,
   "id": "525ca7da-180e-4d0c-a5b2-ef148da923c4",
   "metadata": {},
   "outputs": [],
   "source": []
  },
  {
   "cell_type": "code",
   "execution_count": 54,
   "id": "fe453cf1-9ffb-462a-bb1f-a8ded8baa685",
   "metadata": {},
   "outputs": [],
   "source": [
    "carro_ls = carro(\"Blanco\", \"tipo 3\", \"Audi\")"
   ]
  },
  {
   "cell_type": "code",
   "execution_count": 55,
   "id": "f3e61e0b-7161-4e75-9631-11f6cc1cd83b",
   "metadata": {},
   "outputs": [
    {
     "data": {
      "text/plain": [
       "<__main__.carro at 0x7fab700ec0d0>"
      ]
     },
     "execution_count": 55,
     "metadata": {},
     "output_type": "execute_result"
    }
   ],
   "source": [
    "carro_ls"
   ]
  },
  {
   "cell_type": "code",
   "execution_count": null,
   "id": "98d9a4fa-184a-4e19-b23e-bd2c160853b7",
   "metadata": {},
   "outputs": [],
   "source": []
  },
  {
   "cell_type": "code",
   "execution_count": 62,
   "id": "530471fc-547f-454e-86ee-0a3875dfc7b4",
   "metadata": {},
   "outputs": [],
   "source": [
    "class persona:\n",
    "    \n",
    "    def __init__(self, nombre, edad):\n",
    "        self.nombre = nombre\n",
    "        self.edad = edad\n",
    "    \n",
    "    def getEdad(self):\n",
    "        print(\"La edad de \" + self.nombre + \" es: \" + str(self.edad))"
   ]
  },
  {
   "cell_type": "code",
   "execution_count": 63,
   "id": "57e93d99-e136-4ee7-8eb2-04f51cfbaef3",
   "metadata": {},
   "outputs": [],
   "source": [
    "fabio = persona(\"Fabio\", \"40\")"
   ]
  },
  {
   "cell_type": "code",
   "execution_count": 64,
   "id": "7adacdc3-56e4-49d6-8fbf-41ed17f818ae",
   "metadata": {},
   "outputs": [
    {
     "name": "stdout",
     "output_type": "stream",
     "text": [
      "La edad de Fabio es: 40\n"
     ]
    }
   ],
   "source": [
    "fabio.getEdad()"
   ]
  },
  {
   "cell_type": "code",
   "execution_count": null,
   "id": "a188b953-42db-4b00-ae9f-c511c152abd6",
   "metadata": {},
   "outputs": [],
   "source": []
  },
  {
   "cell_type": "code",
   "execution_count": 73,
   "id": "a78131f8-209c-4367-bdb2-0ed6f24ca41a",
   "metadata": {},
   "outputs": [],
   "source": [
    "class empleado(persona):\n",
    "    \n",
    "    def __init__(self, nombre, edad, cargo):\n",
    "        self.cargo = cargo\n",
    "        super().__init__(nombre, edad)\n",
    "    \n",
    "    def getCargo(self):\n",
    "        print(\"El cargo es: \" + self.cargo)"
   ]
  },
  {
   "cell_type": "code",
   "execution_count": 74,
   "id": "e37eab41-66b9-4fd8-a637-34608401b855",
   "metadata": {},
   "outputs": [],
   "source": [
    "fabio = empleado(\"Fabio\", 40, \"Data Engineer\")"
   ]
  },
  {
   "cell_type": "code",
   "execution_count": 75,
   "id": "bf23f55c-726e-4a4a-b987-a1bcbb380c8d",
   "metadata": {},
   "outputs": [
    {
     "name": "stdout",
     "output_type": "stream",
     "text": [
      "El cargo es: Data Engineer\n"
     ]
    }
   ],
   "source": [
    "fabio.getCargo()"
   ]
  },
  {
   "cell_type": "code",
   "execution_count": 76,
   "id": "8b5a95b7-6974-41f1-9efb-6e62ceeb0674",
   "metadata": {},
   "outputs": [
    {
     "name": "stdout",
     "output_type": "stream",
     "text": [
      "La edad de Fabio es: 40\n"
     ]
    }
   ],
   "source": [
    "fabio.getEdad()"
   ]
  },
  {
   "cell_type": "code",
   "execution_count": null,
   "id": "bb9d7ae2-5b20-4e82-92c6-c78c428853f3",
   "metadata": {},
   "outputs": [],
   "source": []
  },
  {
   "cell_type": "code",
   "execution_count": null,
   "id": "f5f719aa-c9b9-453c-bebc-b829306c7623",
   "metadata": {},
   "outputs": [],
   "source": []
  },
  {
   "cell_type": "markdown",
   "id": "a8e412f1-6d22-4110-b80b-748735d29dbc",
   "metadata": {},
   "source": [
    "Diccionarios"
   ]
  },
  {
   "cell_type": "code",
   "execution_count": 5,
   "id": "8c2f942a-e94c-4e5d-a4aa-4a824e40c1ad",
   "metadata": {},
   "outputs": [
    {
     "data": {
      "text/plain": [
       "{}"
      ]
     },
     "execution_count": 5,
     "metadata": {},
     "output_type": "execute_result"
    }
   ],
   "source": [
    "{}"
   ]
  },
  {
   "cell_type": "code",
   "execution_count": 7,
   "id": "0cc687a6-99fe-4fec-b8d0-114c4d26b529",
   "metadata": {},
   "outputs": [
    {
     "data": {
      "text/plain": [
       "dict"
      ]
     },
     "execution_count": 7,
     "metadata": {},
     "output_type": "execute_result"
    }
   ],
   "source": [
    "type({})"
   ]
  },
  {
   "cell_type": "code",
   "execution_count": null,
   "id": "780a6be0-6669-4a77-a09a-22b4e967a659",
   "metadata": {},
   "outputs": [],
   "source": []
  },
  {
   "cell_type": "code",
   "execution_count": null,
   "id": "b2a8fc63-e0a6-4363-b4e7-b7dcd44b9ac8",
   "metadata": {},
   "outputs": [],
   "source": []
  }
 ],
 "metadata": {
  "kernelspec": {
   "display_name": "Python 3 (ipykernel)",
   "language": "python",
   "name": "python3"
  },
  "language_info": {
   "codemirror_mode": {
    "name": "ipython",
    "version": 3
   },
   "file_extension": ".py",
   "mimetype": "text/x-python",
   "name": "python",
   "nbconvert_exporter": "python",
   "pygments_lexer": "ipython3",
   "version": "3.8.10"
  }
 },
 "nbformat": 4,
 "nbformat_minor": 5
}
